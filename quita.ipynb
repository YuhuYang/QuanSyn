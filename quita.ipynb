{
 "cells": [
  {
   "cell_type": "code",
   "execution_count": 57,
   "metadata": {},
   "outputs": [],
   "source": [
    "import numpy as np\n",
    "from collections import Counter\n",
    "import scipy.stats as ss\n",
    "import math"
   ]
  },
  {
   "cell_type": "code",
   "execution_count": 7,
   "metadata": {},
   "outputs": [
    {
     "name": "stdout",
     "output_type": "stream",
     "text": [
      "Type-Token Ratio: 1.0\n"
     ]
    }
   ],
   "source": [
    "def ttr(text):\n",
    "    words = [i for j in text for i in j]\n",
    "    total_tokens = len(words)\n",
    "    unique_tokens = len(set(words))\n",
    "    ttr = unique_tokens / total_tokens\n",
    "    return ttr\n",
    "def h_point(text,vocab = False):\n",
    "    words = [i for j in text for i in j]\n",
    "    word_counts = Counter(words)\n",
    "    sorted_frequencies = sorted(word_counts.values(), reverse=True)\n",
    "    rank_list = [sorted_frequencies.index(word_counts[word]) + 1 for word in word_counts]\n",
    "    ranks = list(rank_list)\n",
    "    frequencies = list(word_counts.values())\n",
    "    word_frequency_list = [(word_counts[word], word) for word in word_counts]\n",
    "    if [i for i in range(0,len(ranks)) if ranks[i] == frequencies[i]]:\n",
    "        if vocab == False:\n",
    "            return ranks[[i for i in range(0,len(ranks)) if ranks[i] == frequencies[i]][0]]\n",
    "        else:\n",
    "            return ranks[[i for i in range(0,len(ranks)) if ranks[i] == frequencies[i]][0]],word_frequency_list\n",
    "    else: \n",
    "        for i in range(0,len(ranks)):\n",
    "            rank_prev, freq_prev = ranks[i],frequencies[i]\n",
    "            rank_curr, freq_curr = ranks[i+1],frequencies[i+1]\n",
    "            if rank_prev < freq_prev and rank_curr > freq_curr:\n",
    "                h_point = (freq_prev*rank_curr - freq_curr*rank_prev) / (rank_curr-rank_prev+freq_prev-freq_curr)\n",
    "                if vocab == Fasle:\n",
    "                    return h_point\n",
    "                else:\n",
    "                    return h_point,word_frequency_list\n",
    "    raise ValueError(\"Unable to find the h-point. Please check the data.\")\n",
    "def entropy(text):\n",
    "    words = [word for sentence in text for word in sentence]\n",
    "    word_counts = Counter(words)\n",
    "    total_words = len(words)\n",
    "    word_probabilities = [count / total_words for count in word_counts.values()]\n",
    "    text_entropy = -sum(prob * math.log2(prob) for prob in word_probabilities)\n",
    "    return text_entropy\n",
    "def average_tokens_length(text):\n",
    "    words = [word for sentence in text for word in sentence]\n",
    "    total_characters = sum(len(word) for word in words)\n",
    "    total_words = len(words)\n",
    "    average_length = total_characters / total_words\n",
    "    return average_length\n",
    "def token_length_frequency_spectrum(text):\n",
    "    words = [word for sentence in text for word in sentence]\n",
    "    word_length_counts = Counter(len(word) for word in words)\n",
    "    spectrum = {length: count for length, count in word_length_counts.items()}\n",
    "    spectrum = dict(sorted(spectrum.items(), key=lambda item: item[0]))\n",
    "    return spectrum\n",
    "def RR(text):\n",
    "    words = [word for sentence in text for word in sentence]\n",
    "    word_counts = Counter(words)\n",
    "    total_words = len(words)\n",
    "    word_probabilities = [count / total_words for count in word_counts.values()]\n",
    "    repeat_rate = sum([i**2 for i in word_probabilities])\n",
    "    return repeat_rate\n",
    "def RR_mc(text):\n",
    "    words = [word for sentence in text for word in sentence]\n",
    "    word_counts = Counter(words)\n",
    "    total_words = len(words)\n",
    "    repeat_rate = RR(text)\n",
    "    relative_repeat_rate = (1 - math.sqrt(repeat_rate))/(1-1/math.sqrt(unique_tokens))\n",
    "    return relative_repeat_rate"
   ]
  },
  {
   "cell_type": "code",
   "execution_count": 58,
   "metadata": {},
   "outputs": [
    {
     "data": {
      "text/plain": [
       "1.0000000000000002"
      ]
     },
     "execution_count": 58,
     "metadata": {},
     "output_type": "execute_result"
    }
   ],
   "source": [
    "def TC():\n",
    "    \n",
    "text = [['Hello', '!'], ['I', 'am', 'Xiaowang', '.']]\n",
    "RR_mc(text)"
   ]
  }
 ],
 "metadata": {
  "kernelspec": {
   "display_name": "Python 3",
   "language": "python",
   "name": "python3"
  },
  "language_info": {
   "codemirror_mode": {
    "name": "ipython",
    "version": 3
   },
   "file_extension": ".py",
   "mimetype": "text/x-python",
   "name": "python",
   "nbconvert_exporter": "python",
   "pygments_lexer": "ipython3",
   "version": "3.7.6"
  },
  "toc": {
   "base_numbering": 1,
   "nav_menu": {},
   "number_sections": true,
   "sideBar": true,
   "skip_h1_title": false,
   "title_cell": "Table of Contents",
   "title_sidebar": "Contents",
   "toc_cell": false,
   "toc_position": {},
   "toc_section_display": true,
   "toc_window_display": false
  }
 },
 "nbformat": 4,
 "nbformat_minor": 4
}
